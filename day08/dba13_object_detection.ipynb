{
 "cells": [
  {
   "cell_type": "markdown",
   "metadata": {},
   "source": [
    "### 객체탐지\n",
    "\n",
    "#### 개요\n",
    "- 딥러닝의 CNN(외 RCNN 등)와 같은 알고리즘을 통해서 물체를 인식하여 표시하는 기술\n",
    "- 자동차번호판 번호 인식, 화재경보, 교통사고인지, 이상행동파악 등...\n",
    "- CCTV과 같이 접목해서 활용되는 경우가 아주 많음"
   ]
  },
  {
   "cell_type": "markdown",
   "metadata": {},
   "source": [
    "#### 필요 라이브러리\n",
    "- OpenCV - 최초 인텔에서 개발한 오픈소스 실시간 컴퓨터 비전 라이브러리\n",
    "    - C/C++을 목표로 제작. 크로스 플랫폼    \n",
    "    - 파이썬에 OpenCV가 적용되면서 활성화!\n",
    "    - 카메라 인식 산업에서 대부분 사용되고 있음\n",
    "    - C/C++에서 기본 동작코드 2~300줄이면 파이썬에선 10줄이내로 같은 작업을 할 수 있음\n",
    "\n",
    "- YOLO(PyTorch)\n",
    "    - Not You Only Live Once, You Only Look Once! \n",
    "    - 손쉽게 사용할 수 있는 실시간 객체 탐시 시스템\n",
    "    - 2015년에 출시후 현재 2024년 현재 v8.0 \n",
    "    - OpenCV만 가지고 작업하던 걸, YOLO로 넘어가는 추세"
   ]
  },
  {
   "cell_type": "code",
   "execution_count": 1,
   "metadata": {},
   "outputs": [
    {
     "name": "stdout",
     "output_type": "stream",
     "text": [
      "Collecting opencv-python"
     ]
    },
    {
     "name": "stderr",
     "output_type": "stream",
     "text": [
      "\n",
      "[notice] A new release of pip is available: 24.0 -> 24.2\n",
      "[notice] To update, run: python.exe -m pip install --upgrade pip\n"
     ]
    },
    {
     "name": "stdout",
     "output_type": "stream",
     "text": [
      "\n",
      "  Downloading opencv_python-4.10.0.84-cp37-abi3-win_amd64.whl.metadata (20 kB)\n",
      "Requirement already satisfied: numpy>=1.21.2 in c:\\sources\\iot-bigdata-2024\\gpu_env\\lib\\site-packages (from opencv-python) (1.26.3)\n",
      "Downloading opencv_python-4.10.0.84-cp37-abi3-win_amd64.whl (38.8 MB)\n",
      "   ---------------------------------------- 0.0/38.8 MB ? eta -:--:--\n",
      "   ---------------------------------------- 0.1/38.8 MB 1.7 MB/s eta 0:00:24\n",
      "   ---------------------------------------- 0.4/38.8 MB 5.0 MB/s eta 0:00:08\n",
      "    --------------------------------------- 0.8/38.8 MB 6.7 MB/s eta 0:00:06\n",
      "   - -------------------------------------- 1.4/38.8 MB 8.1 MB/s eta 0:00:05\n",
      "   -- ------------------------------------- 2.0/38.8 MB 8.9 MB/s eta 0:00:05\n",
      "   -- ------------------------------------- 2.1/38.8 MB 8.9 MB/s eta 0:00:05\n",
      "   -- ------------------------------------- 2.1/38.8 MB 8.9 MB/s eta 0:00:05\n",
      "   -- ------------------------------------- 2.1/38.8 MB 8.9 MB/s eta 0:00:05\n",
      "   -- ------------------------------------- 2.1/38.8 MB 8.9 MB/s eta 0:00:05\n",
      "   -- ------------------------------------- 2.1/38.8 MB 8.9 MB/s eta 0:00:05\n",
      "   -- ------------------------------------- 2.1/38.8 MB 8.9 MB/s eta 0:00:05\n",
      "   -- ------------------------------------- 2.6/38.8 MB 4.7 MB/s eta 0:00:08\n",
      "   --- ------------------------------------ 3.1/38.8 MB 5.3 MB/s eta 0:00:07\n",
      "   --- ------------------------------------ 3.1/38.8 MB 5.3 MB/s eta 0:00:07\n",
      "   --- ------------------------------------ 3.1/38.8 MB 5.3 MB/s eta 0:00:07\n",
      "   --- ------------------------------------ 3.3/38.8 MB 4.5 MB/s eta 0:00:08\n",
      "   --- ------------------------------------ 3.8/38.8 MB 4.9 MB/s eta 0:00:08\n",
      "   ---- ----------------------------------- 4.4/38.8 MB 5.3 MB/s eta 0:00:07\n",
      "   ----- ---------------------------------- 4.9/38.8 MB 5.6 MB/s eta 0:00:07\n",
      "   ----- ---------------------------------- 5.5/38.8 MB 5.9 MB/s eta 0:00:06\n",
      "   ------ --------------------------------- 6.0/38.8 MB 6.2 MB/s eta 0:00:06\n",
      "   ------ --------------------------------- 6.6/38.8 MB 6.5 MB/s eta 0:00:05\n",
      "   ------- -------------------------------- 7.1/38.8 MB 6.7 MB/s eta 0:00:05\n",
      "   ------- -------------------------------- 7.7/38.8 MB 6.9 MB/s eta 0:00:05\n",
      "   -------- ------------------------------- 8.2/38.8 MB 7.1 MB/s eta 0:00:05\n",
      "   --------- ------------------------------ 8.8/38.8 MB 7.3 MB/s eta 0:00:05\n",
      "   --------- ------------------------------ 9.3/38.8 MB 7.5 MB/s eta 0:00:04\n",
      "   ---------- ----------------------------- 9.9/38.8 MB 7.6 MB/s eta 0:00:04\n",
      "   ---------- ----------------------------- 10.5/38.8 MB 8.0 MB/s eta 0:00:04\n",
      "   ----------- ---------------------------- 11.0/38.8 MB 8.1 MB/s eta 0:00:04\n",
      "   ----------- ---------------------------- 11.5/38.8 MB 8.1 MB/s eta 0:00:04\n",
      "   ------------ --------------------------- 12.1/38.8 MB 8.1 MB/s eta 0:00:04\n",
      "   ------------- -------------------------- 12.6/38.8 MB 10.2 MB/s eta 0:00:03\n",
      "   ------------- -------------------------- 13.2/38.8 MB 10.2 MB/s eta 0:00:03\n",
      "   -------------- ------------------------- 13.7/38.8 MB 11.7 MB/s eta 0:00:03\n",
      "   -------------- ------------------------- 14.3/38.8 MB 11.7 MB/s eta 0:00:03\n",
      "   --------------- ------------------------ 14.8/38.8 MB 11.9 MB/s eta 0:00:03\n",
      "   --------------- ------------------------ 15.4/38.8 MB 11.9 MB/s eta 0:00:02\n",
      "   ---------------- ----------------------- 16.0/38.8 MB 11.9 MB/s eta 0:00:02\n",
      "   ---------------- ----------------------- 16.5/38.8 MB 11.9 MB/s eta 0:00:02\n",
      "   ----------------- ---------------------- 17.1/38.8 MB 11.7 MB/s eta 0:00:02\n",
      "   ------------------ --------------------- 17.6/38.8 MB 11.9 MB/s eta 0:00:02\n",
      "   ------------------ --------------------- 18.2/38.8 MB 11.9 MB/s eta 0:00:02\n",
      "   ------------------- -------------------- 18.7/38.8 MB 11.9 MB/s eta 0:00:02\n",
      "   ------------------- -------------------- 19.3/38.8 MB 11.9 MB/s eta 0:00:02\n",
      "   -------------------- ------------------- 19.8/38.8 MB 11.9 MB/s eta 0:00:02\n",
      "   --------------------- ------------------ 20.4/38.8 MB 11.9 MB/s eta 0:00:02\n",
      "   --------------------- ------------------ 21.0/38.8 MB 11.9 MB/s eta 0:00:02\n",
      "   ---------------------- ----------------- 21.5/38.8 MB 11.9 MB/s eta 0:00:02\n",
      "   ---------------------- ----------------- 22.1/38.8 MB 11.9 MB/s eta 0:00:02\n",
      "   ----------------------- ---------------- 22.6/38.8 MB 11.9 MB/s eta 0:00:02\n",
      "   ----------------------- ---------------- 23.2/38.8 MB 11.9 MB/s eta 0:00:02\n",
      "   ------------------------ --------------- 23.7/38.8 MB 11.9 MB/s eta 0:00:02\n",
      "   ------------------------ --------------- 24.3/38.8 MB 11.9 MB/s eta 0:00:02\n",
      "   ------------------------- -------------- 24.8/38.8 MB 11.9 MB/s eta 0:00:02\n",
      "   -------------------------- ------------- 25.4/38.8 MB 11.9 MB/s eta 0:00:02\n",
      "   -------------------------- ------------- 25.9/38.8 MB 11.9 MB/s eta 0:00:02\n",
      "   --------------------------- ------------ 26.5/38.8 MB 11.9 MB/s eta 0:00:02\n",
      "   --------------------------- ------------ 27.0/38.8 MB 11.9 MB/s eta 0:00:01\n",
      "   ---------------------------- ----------- 27.6/38.8 MB 11.9 MB/s eta 0:00:01\n",
      "   ---------------------------- ----------- 28.1/38.8 MB 11.9 MB/s eta 0:00:01\n",
      "   ----------------------------- ---------- 28.7/38.8 MB 11.9 MB/s eta 0:00:01\n",
      "   ------------------------------ --------- 29.2/38.8 MB 11.9 MB/s eta 0:00:01\n",
      "   ------------------------------ --------- 29.8/38.8 MB 11.9 MB/s eta 0:00:01\n",
      "   ------------------------------- -------- 30.3/38.8 MB 11.9 MB/s eta 0:00:01\n",
      "   ------------------------------- -------- 30.9/38.8 MB 11.7 MB/s eta 0:00:01\n",
      "   -------------------------------- ------- 31.4/38.8 MB 11.9 MB/s eta 0:00:01\n",
      "   -------------------------------- ------- 32.0/38.8 MB 11.9 MB/s eta 0:00:01\n",
      "   --------------------------------- ------ 32.6/38.8 MB 11.9 MB/s eta 0:00:01\n",
      "   ---------------------------------- ----- 33.1/38.8 MB 11.9 MB/s eta 0:00:01\n",
      "   ---------------------------------- ----- 33.7/38.8 MB 11.9 MB/s eta 0:00:01\n",
      "   ----------------------------------- ---- 34.2/38.8 MB 11.7 MB/s eta 0:00:01\n",
      "   ----------------------------------- ---- 34.7/38.8 MB 11.7 MB/s eta 0:00:01\n",
      "   ------------------------------------ --- 35.3/38.8 MB 11.7 MB/s eta 0:00:01\n",
      "   ------------------------------------ --- 35.8/38.8 MB 11.7 MB/s eta 0:00:01\n",
      "   ------------------------------------- -- 36.4/38.8 MB 11.7 MB/s eta 0:00:01\n",
      "   -------------------------------------- - 36.9/38.8 MB 11.7 MB/s eta 0:00:01\n",
      "   -------------------------------------- - 37.5/38.8 MB 11.7 MB/s eta 0:00:01\n",
      "   ---------------------------------------  38.0/38.8 MB 11.7 MB/s eta 0:00:01\n",
      "   ---------------------------------------  38.6/38.8 MB 11.7 MB/s eta 0:00:01\n",
      "   ---------------------------------------  38.8/38.8 MB 11.9 MB/s eta 0:00:01\n",
      "   ---------------------------------------  38.8/38.8 MB 11.9 MB/s eta 0:00:01\n",
      "   ---------------------------------------  38.8/38.8 MB 11.9 MB/s eta 0:00:01\n",
      "   ---------------------------------------  38.8/38.8 MB 11.9 MB/s eta 0:00:01\n",
      "   ---------------------------------------- 38.8/38.8 MB 9.5 MB/s eta 0:00:00\n",
      "Installing collected packages: opencv-python\n",
      "Successfully installed opencv-python-4.10.0.84\n"
     ]
    }
   ],
   "source": [
    "!pip install opencv-python"
   ]
  },
  {
   "cell_type": "code",
   "execution_count": 1,
   "metadata": {},
   "outputs": [],
   "source": [
    "## Window, Mac 차이가 없음\n",
    "## Raspbarry Pi는 최선버전에서 사용법이 변경되었음.\n",
    "import cv2"
   ]
  },
  {
   "cell_type": "code",
   "execution_count": 2,
   "metadata": {},
   "outputs": [],
   "source": [
    "## 이미지 로드\n",
    "## 사막여우 == Fennec Fox\n",
    "img = cv2.imread('./fennec_fox.png')\n",
    "\n",
    "cv2.imshow('Fox', img)\n",
    "cv2.waitKey(0)\n",
    "cv2.destroyAllWindows()"
   ]
  },
  {
   "cell_type": "code",
   "execution_count": 5,
   "metadata": {},
   "outputs": [],
   "source": [
    "## 현재 웹캠이 동작 안함\n",
    "video_path = './Mumbai_traffic.mp4'\n",
    "\n",
    "cap = cv2.VideoCapture(video_path) # 0~숫자는 카메라번호\n",
    "cap.set(3, 640)\n",
    "cap.set(4, 480)\n",
    "\n",
    "while (cap.isOpened()):  ## True => (cap.isOpened())\n",
    "    ret, img = cap.read() # 실시간으로 화면을 캡쳐 ret(결과정보객체), img(실시간이미지)\n",
    "    if ret == True:\n",
    "        cv2.imshow('youtube mpeg', img) ## 내부적으로 PyQt로 생성되는 GUI창\n",
    "\n",
    "        if cv2.waitKey(1) == ord('q'): # 키보드 q를 클릭하면\n",
    "            break\n",
    "    else:\n",
    "        break\n",
    "\n",
    "cap.release() # 자원 해제\n",
    "cv2.destroyAllWindows()"
   ]
  },
  {
   "cell_type": "markdown",
   "metadata": {},
   "source": [
    "##### 이미지 처리"
   ]
  },
  {
   "cell_type": "code",
   "execution_count": 8,
   "metadata": {},
   "outputs": [],
   "source": [
    "img = cv2.imread('./fennec_fox.png')\n",
    "\n",
    "cv2.imshow('Original', img) ## 일반 이미지\n",
    "# cv2.waitKey(0) \n",
    "gray = cv2.cvtColor(img, cv2.COLOR_BGR2GRAY)\n",
    "height, width = img.shape[0], img.shape[1]\n",
    "## 정수입력 width/2 => float 문제\n",
    "half_img = cv2.resize(gray, (int(width/2), int(height/2)))\n",
    "# cv2.imshow('Gray', gray) ## 흑백 변환\n",
    "cv2.imshow('half', half_img)\n",
    "cv2.waitKey(0) \n",
    "\n",
    "cv2.destroyAllWindows()"
   ]
  },
  {
   "cell_type": "code",
   "execution_count": 4,
   "metadata": {},
   "outputs": [],
   "source": [
    "video_path = './Mumbai_traffic.mp4'\n",
    "\n",
    "cap = cv2.VideoCapture(video_path) # 0~숫자는 카메라번호\n",
    "cap.set(3, 640)\n",
    "cap.set(4, 480)\n",
    "\n",
    "while (cap.isOpened()):   \n",
    "    ret, img = cap.read() # 실시간으로 화면을 캡쳐 ret(결과정보객체) 보통 사용하지 않아서 _로 변경, img(실시간이미지)\n",
    "    if ret == True:\n",
    "        # cv2.imshow('youtube mpeg', img) ## 내부적으로 PyQt로 생성되는 GUI창\n",
    "        height, width = img.shape[0], img.shape[1]\n",
    "        gray = cv2.cvtColor(img, cv2.COLOR_BGR2GRAY)  ## 컬러 -> 흑백으로\n",
    "        half = cv2.resize(gray, (int(width/2), int(height/2))) ## 사이즈를 반으로 축소\n",
    "        cv2.imshow('youtube gray', half)\n",
    "\n",
    "        if cv2.waitKey(1) == ord('q'): # 키보드 q를 클릭하면\n",
    "            break\n",
    "    else:\n",
    "        break\n",
    "\n",
    "cap.release() # 자원 해제\n",
    "cv2.destroyAllWindows()"
   ]
  },
  {
   "cell_type": "markdown",
   "metadata": {},
   "source": [
    "- 포토샵등의 이미지, 프리미어등의 동영상 처리하는 프로그램에서 사용하는 거의 대부분의 기능이 OpenCV에 포함되어 있음"
   ]
  },
  {
   "cell_type": "code",
   "execution_count": 6,
   "metadata": {},
   "outputs": [],
   "source": [
    "video_path = './mbc_news.mp4'\n",
    "\n",
    "faceCascade = cv2.CascadeClassifier('./haarcascade_frontalface_default.xml')\n",
    "cap = cv2.VideoCapture(video_path) # 0~숫자는 카메라번호\n",
    "\n",
    "while (cap.isOpened()):    \n",
    "    ret, img = cap.read() # 실시간으로 화면을 캡쳐 ret(결과정보객체) 보통 사용하지 않아서 _로 변경, img(실시간이미지)\n",
    "    if ret == True:\n",
    "        height, width = img.shape[0], img.shape[1]\n",
    "\n",
    "        half = cv2.resize(img, (int(width/2), int(height/2)))\n",
    "\n",
    "        # 얼굴인식\n",
    "        faces = faceCascade.detectMultiScale(\n",
    "            half,\n",
    "            scaleFactor=2.0,\n",
    "            minNeighbors=5,\n",
    "            minSize=(10,10)\n",
    "        )\n",
    "        ## 찾은 얼굴 위치 표시\n",
    "        for (x,y,w,h) in faces:\n",
    "            cv2.rectangle(half,(x,y),(x+w,y+h),(0,255,255), 2)\n",
    "            roi_color = half[y:y+h, x:x+w]\n",
    "\n",
    "        cv2.imshow('youtube mpeg', half) ## 내부적으로 PyQt로 생성되는 GUI창\n",
    "\n",
    "        if cv2.waitKey(1) == ord('q'): # 키보드 q를 클릭하면\n",
    "            break\n",
    "    \n",
    "    else:\n",
    "        break\n",
    "\n",
    "cap.release() # 자원 해제\n",
    "cv2.destroyAllWindows()"
   ]
  }
 ],
 "metadata": {
  "kernelspec": {
   "display_name": "gpu_env",
   "language": "python",
   "name": "python3"
  },
  "language_info": {
   "codemirror_mode": {
    "name": "ipython",
    "version": 3
   },
   "file_extension": ".py",
   "mimetype": "text/x-python",
   "name": "python",
   "nbconvert_exporter": "python",
   "pygments_lexer": "ipython3",
   "version": "3.11.5"
  }
 },
 "nbformat": 4,
 "nbformat_minor": 2
}
